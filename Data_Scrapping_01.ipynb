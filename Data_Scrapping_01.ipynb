{
 "cells": [
  {
   "cell_type": "code",
   "execution_count": 2,
   "id": "11034102",
   "metadata": {},
   "outputs": [],
   "source": [
    "from bs4 import BeautifulSoup\n",
    "import requests"
   ]
  },
  {
   "cell_type": "code",
   "execution_count": 29,
   "id": "57ba84e0",
   "metadata": {},
   "outputs": [],
   "source": [
    "import pandas as pd"
   ]
  },
  {
   "cell_type": "code",
   "execution_count": 4,
   "id": "4ebef773",
   "metadata": {},
   "outputs": [],
   "source": [
    "url = 'https://www.dsebd.org/top_ten_gainer.php'\n",
    "page = requests.get(url)\n",
    "soup=BeautifulSoup(page.text,'html')"
   ]
  },
  {
   "cell_type": "code",
   "execution_count": 32,
   "id": "9314b979",
   "metadata": {},
   "outputs": [],
   "source": [
    "table1=soup.find('table', class_='table table-bordered background-white shares-table')\n",
    "table2 = soup.find_all('table')[391]"
   ]
  },
  {
   "cell_type": "code",
   "execution_count": 36,
   "id": "01d92e78",
   "metadata": {},
   "outputs": [
    {
     "name": "stdout",
     "output_type": "stream",
     "text": [
      "[<th width=\"4%\">#</th>, <th width=\"12%\">TRADING CODE</th>, <th width=\"12%\">CLOSEP*</th>, <th width=\"12%\">HIGH</th>, <th width=\"12%\">LOW</th>, <th width=\"12%\">YCP*</th>, <th width=\"12%\">% CHANGE</th>]\n"
     ]
    }
   ],
   "source": [
    "titles1 = table1.find_all('th')\n",
    "print(titles1)"
   ]
  },
  {
   "cell_type": "code",
   "execution_count": 50,
   "id": "76902e1e",
   "metadata": {},
   "outputs": [
    {
     "name": "stdout",
     "output_type": "stream",
     "text": [
      "['#', 'TRADING CODE', 'CLOSEP*', 'HIGH', 'LOW', 'YCP*', '% CHANGE']\n"
     ]
    }
   ],
   "source": [
    "table1_title = [title.text.strip() for title in titles1]\n",
    "print(table1_title)"
   ]
  },
  {
   "cell_type": "code",
   "execution_count": 51,
   "id": "7661aa8f",
   "metadata": {},
   "outputs": [
    {
     "data": {
      "text/html": [
       "<div>\n",
       "<style scoped>\n",
       "    .dataframe tbody tr th:only-of-type {\n",
       "        vertical-align: middle;\n",
       "    }\n",
       "\n",
       "    .dataframe tbody tr th {\n",
       "        vertical-align: top;\n",
       "    }\n",
       "\n",
       "    .dataframe thead th {\n",
       "        text-align: right;\n",
       "    }\n",
       "</style>\n",
       "<table border=\"1\" class=\"dataframe\">\n",
       "  <thead>\n",
       "    <tr style=\"text-align: right;\">\n",
       "      <th></th>\n",
       "      <th>#</th>\n",
       "      <th>TRADING CODE</th>\n",
       "      <th>CLOSEP*</th>\n",
       "      <th>HIGH</th>\n",
       "      <th>LOW</th>\n",
       "      <th>YCP*</th>\n",
       "      <th>% CHANGE</th>\n",
       "    </tr>\n",
       "  </thead>\n",
       "  <tbody>\n",
       "  </tbody>\n",
       "</table>\n",
       "</div>"
      ],
      "text/plain": [
       "Empty DataFrame\n",
       "Columns: [#, TRADING CODE, CLOSEP*, HIGH, LOW, YCP*, % CHANGE]\n",
       "Index: []"
      ]
     },
     "execution_count": 51,
     "metadata": {},
     "output_type": "execute_result"
    }
   ],
   "source": [
    "df = pd.DataFrame(columns = table1_title)\n",
    "df"
   ]
  },
  {
   "cell_type": "code",
   "execution_count": 53,
   "id": "a1f94ec7",
   "metadata": {},
   "outputs": [],
   "source": [
    "column_data = table1.find_all('tr')"
   ]
  },
  {
   "cell_type": "code",
   "execution_count": 60,
   "id": "df39c484",
   "metadata": {},
   "outputs": [],
   "source": [
    "for row in column_data[1:]:\n",
    "    row_data = row.find_all('td')\n",
    "    table1_data = [data.text.strip() for data in row_data]\n",
    "    length = len(df)\n",
    "    df.loc[length] = table1_data"
   ]
  },
  {
   "cell_type": "code",
   "execution_count": 59,
   "id": "fb3a2824",
   "metadata": {},
   "outputs": [
    {
     "data": {
      "text/html": [
       "<div>\n",
       "<style scoped>\n",
       "    .dataframe tbody tr th:only-of-type {\n",
       "        vertical-align: middle;\n",
       "    }\n",
       "\n",
       "    .dataframe tbody tr th {\n",
       "        vertical-align: top;\n",
       "    }\n",
       "\n",
       "    .dataframe thead th {\n",
       "        text-align: right;\n",
       "    }\n",
       "</style>\n",
       "<table border=\"1\" class=\"dataframe\">\n",
       "  <thead>\n",
       "    <tr style=\"text-align: right;\">\n",
       "      <th></th>\n",
       "      <th>#</th>\n",
       "      <th>TRADING CODE</th>\n",
       "      <th>CLOSEP*</th>\n",
       "      <th>HIGH</th>\n",
       "      <th>LOW</th>\n",
       "      <th>YCP*</th>\n",
       "      <th>% CHANGE</th>\n",
       "    </tr>\n",
       "  </thead>\n",
       "  <tbody>\n",
       "    <tr>\n",
       "      <th>0</th>\n",
       "      <td>1</td>\n",
       "      <td>SPCERAMICS</td>\n",
       "      <td>17.7</td>\n",
       "      <td>17.7</td>\n",
       "      <td>16.2</td>\n",
       "      <td>16.1</td>\n",
       "      <td>9.9379</td>\n",
       "    </tr>\n",
       "    <tr>\n",
       "      <th>1</th>\n",
       "      <td>2</td>\n",
       "      <td>GEMINISEA</td>\n",
       "      <td>159.1</td>\n",
       "      <td>164.8</td>\n",
       "      <td>152.4</td>\n",
       "      <td>150.0</td>\n",
       "      <td>6.0667</td>\n",
       "    </tr>\n",
       "    <tr>\n",
       "      <th>2</th>\n",
       "      <td>3</td>\n",
       "      <td>FUWANGFOOD</td>\n",
       "      <td>16.9</td>\n",
       "      <td>17.1</td>\n",
       "      <td>16.0</td>\n",
       "      <td>16.0</td>\n",
       "      <td>5.625</td>\n",
       "    </tr>\n",
       "    <tr>\n",
       "      <th>3</th>\n",
       "      <td>4</td>\n",
       "      <td>ATCSLGF</td>\n",
       "      <td>6.8</td>\n",
       "      <td>6.8</td>\n",
       "      <td>6.6</td>\n",
       "      <td>6.5</td>\n",
       "      <td>4.6154</td>\n",
       "    </tr>\n",
       "    <tr>\n",
       "      <th>4</th>\n",
       "      <td>5</td>\n",
       "      <td>GHAIL</td>\n",
       "      <td>13.1</td>\n",
       "      <td>13.3</td>\n",
       "      <td>12.3</td>\n",
       "      <td>12.6</td>\n",
       "      <td>3.9683</td>\n",
       "    </tr>\n",
       "    <tr>\n",
       "      <th>5</th>\n",
       "      <td>6</td>\n",
       "      <td>DESHBANDHU</td>\n",
       "      <td>21.7</td>\n",
       "      <td>22.7</td>\n",
       "      <td>20.7</td>\n",
       "      <td>20.9</td>\n",
       "      <td>3.8278</td>\n",
       "    </tr>\n",
       "    <tr>\n",
       "      <th>6</th>\n",
       "      <td>7</td>\n",
       "      <td>ECABLES</td>\n",
       "      <td>111.8</td>\n",
       "      <td>117.9</td>\n",
       "      <td>108.0</td>\n",
       "      <td>107.7</td>\n",
       "      <td>3.8069</td>\n",
       "    </tr>\n",
       "    <tr>\n",
       "      <th>7</th>\n",
       "      <td>8</td>\n",
       "      <td>NPOLYMER</td>\n",
       "      <td>32.9</td>\n",
       "      <td>34.6</td>\n",
       "      <td>31.6</td>\n",
       "      <td>31.7</td>\n",
       "      <td>3.7855</td>\n",
       "    </tr>\n",
       "    <tr>\n",
       "      <th>8</th>\n",
       "      <td>9</td>\n",
       "      <td>DESCO</td>\n",
       "      <td>23.8</td>\n",
       "      <td>24.1</td>\n",
       "      <td>22.7</td>\n",
       "      <td>23.0</td>\n",
       "      <td>3.4783</td>\n",
       "    </tr>\n",
       "    <tr>\n",
       "      <th>9</th>\n",
       "      <td>10</td>\n",
       "      <td>AL-HAJTEX</td>\n",
       "      <td>159.2</td>\n",
       "      <td>162.0</td>\n",
       "      <td>154.7</td>\n",
       "      <td>154.4</td>\n",
       "      <td>3.1088</td>\n",
       "    </tr>\n",
       "  </tbody>\n",
       "</table>\n",
       "</div>"
      ],
      "text/plain": [
       "    # TRADING CODE CLOSEP*   HIGH    LOW   YCP* % CHANGE\n",
       "0   1   SPCERAMICS    17.7   17.7   16.2   16.1   9.9379\n",
       "1   2    GEMINISEA   159.1  164.8  152.4  150.0   6.0667\n",
       "2   3   FUWANGFOOD    16.9   17.1   16.0   16.0    5.625\n",
       "3   4      ATCSLGF     6.8    6.8    6.6    6.5   4.6154\n",
       "4   5        GHAIL    13.1   13.3   12.3   12.6   3.9683\n",
       "5   6   DESHBANDHU    21.7   22.7   20.7   20.9   3.8278\n",
       "6   7      ECABLES   111.8  117.9  108.0  107.7   3.8069\n",
       "7   8     NPOLYMER    32.9   34.6   31.6   31.7   3.7855\n",
       "8   9        DESCO    23.8   24.1   22.7   23.0   3.4783\n",
       "9  10    AL-HAJTEX   159.2  162.0  154.7  154.4   3.1088"
      ]
     },
     "execution_count": 59,
     "metadata": {},
     "output_type": "execute_result"
    }
   ],
   "source": [
    "df"
   ]
  },
  {
   "cell_type": "code",
   "execution_count": 65,
   "id": "60fc2d38",
   "metadata": {},
   "outputs": [],
   "source": [
    "df.to_csv(r'Table1.csv',index = False)"
   ]
  },
  {
   "cell_type": "code",
   "execution_count": 80,
   "id": "e51833fd",
   "metadata": {},
   "outputs": [
    {
     "data": {
      "text/html": [
       "<div>\n",
       "<style scoped>\n",
       "    .dataframe tbody tr th:only-of-type {\n",
       "        vertical-align: middle;\n",
       "    }\n",
       "\n",
       "    .dataframe tbody tr th {\n",
       "        vertical-align: top;\n",
       "    }\n",
       "\n",
       "    .dataframe thead th {\n",
       "        text-align: right;\n",
       "    }\n",
       "</style>\n",
       "<table border=\"1\" class=\"dataframe\">\n",
       "  <thead>\n",
       "    <tr style=\"text-align: right;\">\n",
       "      <th></th>\n",
       "      <th>#</th>\n",
       "      <th>TRADING CODE</th>\n",
       "      <th>OPEN*</th>\n",
       "      <th>HIGH</th>\n",
       "      <th>LOW</th>\n",
       "      <th>LTP*</th>\n",
       "      <th>DEVIATION %</th>\n",
       "    </tr>\n",
       "  </thead>\n",
       "  <tbody>\n",
       "  </tbody>\n",
       "</table>\n",
       "</div>"
      ],
      "text/plain": [
       "Empty DataFrame\n",
       "Columns: [#, TRADING CODE, OPEN*, HIGH, LOW, LTP*, DEVIATION %]\n",
       "Index: []"
      ]
     },
     "execution_count": 80,
     "metadata": {},
     "output_type": "execute_result"
    }
   ],
   "source": [
    "titles2 = table2.find_all('th')\n",
    "table2_title = [title.text.strip() for title in titles2]\n",
    "df2 = pd.DataFrame(columns = table2_title)\n",
    "df2"
   ]
  },
  {
   "cell_type": "code",
   "execution_count": 81,
   "id": "83638720",
   "metadata": {},
   "outputs": [],
   "source": [
    "column_data2 = table2.find_all('tr')\n",
    "for row in column_data2[1:]:\n",
    "    row_data = row.find_all('td')\n",
    "    table2_data = [data.text.strip() for data in row_data]\n",
    "    length = len(df2)\n",
    "    df2.loc[length] = table2_data"
   ]
  },
  {
   "cell_type": "code",
   "execution_count": 82,
   "id": "10e52bcb",
   "metadata": {},
   "outputs": [
    {
     "data": {
      "text/html": [
       "<div>\n",
       "<style scoped>\n",
       "    .dataframe tbody tr th:only-of-type {\n",
       "        vertical-align: middle;\n",
       "    }\n",
       "\n",
       "    .dataframe tbody tr th {\n",
       "        vertical-align: top;\n",
       "    }\n",
       "\n",
       "    .dataframe thead th {\n",
       "        text-align: right;\n",
       "    }\n",
       "</style>\n",
       "<table border=\"1\" class=\"dataframe\">\n",
       "  <thead>\n",
       "    <tr style=\"text-align: right;\">\n",
       "      <th></th>\n",
       "      <th>#</th>\n",
       "      <th>TRADING CODE</th>\n",
       "      <th>OPEN*</th>\n",
       "      <th>HIGH</th>\n",
       "      <th>LOW</th>\n",
       "      <th>LTP*</th>\n",
       "      <th>DEVIATION %</th>\n",
       "    </tr>\n",
       "  </thead>\n",
       "  <tbody>\n",
       "    <tr>\n",
       "      <th>0</th>\n",
       "      <td>1</td>\n",
       "      <td>SPCERAMICS</td>\n",
       "      <td>16.2</td>\n",
       "      <td>17.7</td>\n",
       "      <td>16.2</td>\n",
       "      <td>17.7</td>\n",
       "      <td>9.2593</td>\n",
       "    </tr>\n",
       "    <tr>\n",
       "      <th>1</th>\n",
       "      <td>2</td>\n",
       "      <td>ENVOYTEX</td>\n",
       "      <td>41.3</td>\n",
       "      <td>44.8</td>\n",
       "      <td>41.3</td>\n",
       "      <td>44.0</td>\n",
       "      <td>6.5375</td>\n",
       "    </tr>\n",
       "    <tr>\n",
       "      <th>2</th>\n",
       "      <td>3</td>\n",
       "      <td>GHAIL</td>\n",
       "      <td>12.3</td>\n",
       "      <td>13.3</td>\n",
       "      <td>12.3</td>\n",
       "      <td>13.1</td>\n",
       "      <td>6.5041</td>\n",
       "    </tr>\n",
       "    <tr>\n",
       "      <th>3</th>\n",
       "      <td>4</td>\n",
       "      <td>FUWANGFOOD</td>\n",
       "      <td>16.1</td>\n",
       "      <td>17.1</td>\n",
       "      <td>16.0</td>\n",
       "      <td>16.9</td>\n",
       "      <td>4.9689</td>\n",
       "    </tr>\n",
       "    <tr>\n",
       "      <th>4</th>\n",
       "      <td>5</td>\n",
       "      <td>DESCO</td>\n",
       "      <td>22.7</td>\n",
       "      <td>24.1</td>\n",
       "      <td>22.7</td>\n",
       "      <td>23.8</td>\n",
       "      <td>4.8458</td>\n",
       "    </tr>\n",
       "    <tr>\n",
       "      <th>5</th>\n",
       "      <td>6</td>\n",
       "      <td>SALAMCRST</td>\n",
       "      <td>21.8</td>\n",
       "      <td>23.6</td>\n",
       "      <td>21.1</td>\n",
       "      <td>22.7</td>\n",
       "      <td>4.1284</td>\n",
       "    </tr>\n",
       "    <tr>\n",
       "      <th>6</th>\n",
       "      <td>7</td>\n",
       "      <td>NPOLYMER</td>\n",
       "      <td>31.6</td>\n",
       "      <td>34.6</td>\n",
       "      <td>31.6</td>\n",
       "      <td>32.9</td>\n",
       "      <td>4.1139</td>\n",
       "    </tr>\n",
       "    <tr>\n",
       "      <th>7</th>\n",
       "      <td>8</td>\n",
       "      <td>GEMINISEA</td>\n",
       "      <td>152.9</td>\n",
       "      <td>164.8</td>\n",
       "      <td>152.4</td>\n",
       "      <td>159.1</td>\n",
       "      <td>4.0549</td>\n",
       "    </tr>\n",
       "    <tr>\n",
       "      <th>8</th>\n",
       "      <td>9</td>\n",
       "      <td>NHFIL</td>\n",
       "      <td>27.2</td>\n",
       "      <td>28.4</td>\n",
       "      <td>27.2</td>\n",
       "      <td>28.2</td>\n",
       "      <td>3.6765</td>\n",
       "    </tr>\n",
       "    <tr>\n",
       "      <th>9</th>\n",
       "      <td>10</td>\n",
       "      <td>MEGHNAINS</td>\n",
       "      <td>25.6</td>\n",
       "      <td>26.8</td>\n",
       "      <td>25.6</td>\n",
       "      <td>26.5</td>\n",
       "      <td>3.5156</td>\n",
       "    </tr>\n",
       "  </tbody>\n",
       "</table>\n",
       "</div>"
      ],
      "text/plain": [
       "    # TRADING CODE  OPEN*   HIGH    LOW   LTP* DEVIATION %\n",
       "0   1   SPCERAMICS   16.2   17.7   16.2   17.7      9.2593\n",
       "1   2     ENVOYTEX   41.3   44.8   41.3   44.0      6.5375\n",
       "2   3        GHAIL   12.3   13.3   12.3   13.1      6.5041\n",
       "3   4   FUWANGFOOD   16.1   17.1   16.0   16.9      4.9689\n",
       "4   5        DESCO   22.7   24.1   22.7   23.8      4.8458\n",
       "5   6    SALAMCRST   21.8   23.6   21.1   22.7      4.1284\n",
       "6   7     NPOLYMER   31.6   34.6   31.6   32.9      4.1139\n",
       "7   8    GEMINISEA  152.9  164.8  152.4  159.1      4.0549\n",
       "8   9        NHFIL   27.2   28.4   27.2   28.2      3.6765\n",
       "9  10    MEGHNAINS   25.6   26.8   25.6   26.5      3.5156"
      ]
     },
     "execution_count": 82,
     "metadata": {},
     "output_type": "execute_result"
    }
   ],
   "source": [
    "df2"
   ]
  },
  {
   "cell_type": "code",
   "execution_count": 83,
   "id": "37357896",
   "metadata": {},
   "outputs": [],
   "source": []
  }
 ],
 "metadata": {
  "kernelspec": {
   "display_name": "Python 3 (ipykernel)",
   "language": "python",
   "name": "python3"
  },
  "language_info": {
   "codemirror_mode": {
    "name": "ipython",
    "version": 3
   },
   "file_extension": ".py",
   "mimetype": "text/x-python",
   "name": "python",
   "nbconvert_exporter": "python",
   "pygments_lexer": "ipython3",
   "version": "3.11.7"
  }
 },
 "nbformat": 4,
 "nbformat_minor": 5
}
